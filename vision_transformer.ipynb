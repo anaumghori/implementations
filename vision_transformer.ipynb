{
  "nbformat": 4,
  "nbformat_minor": 0,
  "metadata": {
    "colab": {
      "provenance": [],
      "gpuType": "T4"
    },
    "kernelspec": {
      "name": "python3",
      "display_name": "Python 3"
    },
    "language_info": {
      "name": "python"
    },
    "accelerator": "GPU"
  },
  "cells": [
    {
      "cell_type": "markdown",
      "source": [
        "# **Intial Setup**\n"
      ],
      "metadata": {
        "id": "Dwp8dcGlqPz5"
      }
    },
    {
      "cell_type": "code",
      "source": [
        "import torch\n",
        "import torch.nn as nn\n",
        "import torch.nn.functional as F\n",
        "import torch.optim as optim\n",
        "from torch.utils.data import DataLoader\n",
        "from torchvision import datasets, transforms\n",
        "import numpy as np\n",
        "import random\n",
        "from tqdm import tqdm\n",
        "import matplotlib.pyplot as plt\n",
        "\n",
        "# Set device and seeds\n",
        "device = \"cuda\" if torch.cuda.is_available() else \"cpu\"\n",
        "torch.manual_seed(42)\n",
        "torch.cuda.manual_seed(42)\n",
        "random.seed(42)\n",
        "np.random.seed(42)\n",
        "\n",
        "# Hyperparameters\n",
        "BATCH_SIZE = 64\n",
        "IMAGE_SIZE = 32\n",
        "PATCH_SIZE = 4\n",
        "LEARNING_RATE = 2e-4\n",
        "DROP_RATE = 0.3\n",
        "MLP_DIM = 256\n",
        "EMBED_DIM = 192\n",
        "NUM_HEADS = 6\n",
        "EPOCHS = 30\n",
        "NUM_CLASSES = 10\n",
        "CHANNELS = 3\n",
        "DEPTH = 4\n",
        "\n",
        "# Dataset setup\n",
        "transform_train = transforms.Compose([\n",
        "    transforms.RandomCrop(IMAGE_SIZE, padding=4),\n",
        "    transforms.RandomHorizontalFlip(),\n",
        "    transforms.RandAugment(num_ops=2, magnitude=9),\n",
        "    transforms.ColorJitter(brightness=0.1, contrast=0.1, saturation=0.1, hue=0.1),\n",
        "    transforms.ToTensor(),\n",
        "    transforms.Normalize((0.5, 0.5, 0.5), (0.5, 0.5, 0.5))\n",
        "])\n",
        "\n",
        "transform_test = transforms.Compose([\n",
        "    transforms.ToTensor(),\n",
        "    transforms.Normalize((0.5, 0.5, 0.5), (0.5, 0.5, 0.5))\n",
        "])\n",
        "\n",
        "train_dataset = datasets.CIFAR10(root=\"data\", train=True, download=True, transform=transform_train)\n",
        "test_dataset = datasets.CIFAR10(root=\"data\", train=False, download=True, transform=transform_test)\n",
        "train_loader = DataLoader(train_dataset, batch_size=BATCH_SIZE, shuffle=True)\n",
        "test_loader = DataLoader(test_dataset, batch_size=BATCH_SIZE, shuffle=False)\n",
        "\n",
        "print(f\"Train samples: {len(train_dataset)}, Test samples: {len(test_dataset)}\")"
      ],
      "metadata": {
        "id": "oq0IpSwzyJni",
        "colab": {
          "base_uri": "https://localhost:8080/"
        },
        "outputId": "20b2de0a-12ec-4e96-82d2-417538bbbe2e"
      },
      "execution_count": 1,
      "outputs": [
        {
          "output_type": "stream",
          "name": "stderr",
          "text": [
            "100%|██████████| 170M/170M [00:05<00:00, 29.5MB/s]\n"
          ]
        },
        {
          "output_type": "stream",
          "name": "stdout",
          "text": [
            "Train samples: 50000, Test samples: 10000\n"
          ]
        }
      ]
    },
    {
      "cell_type": "markdown",
      "source": [
        "# **Vision Transformer**"
      ],
      "metadata": {
        "id": "DhWyF5ke1Syj"
      }
    },
    {
      "cell_type": "code",
      "source": [
        "class PatchEmbedding(nn.Module):\n",
        "    def __init__(self, image_size, patch_size, in_channels, embed_dim):\n",
        "        super().__init__()\n",
        "        self.patch_size = patch_size\n",
        "        self.proj = nn.Conv2d(in_channels=in_channels, out_channels=embed_dim, kernel_size=patch_size, stride=patch_size)\n",
        "        num_patches = (image_size // patch_size) ** 2\n",
        "        self.cls_token = nn.Parameter(torch.randn(1, 1, embed_dim))\n",
        "        self.pos_embed = nn.Parameter(torch.randn(1, 1 + num_patches, embed_dim))\n",
        "\n",
        "        print(f\"PatchEmbedding: {num_patches}\")\n",
        "\n",
        "    def forward(self, x):\n",
        "        B = x.size(0)\n",
        "        # PatchEmbedding input: torch.Size([64, 3, 32, 32])\n",
        "\n",
        "        x = self.proj(x) # (B, embed_dim, H/patch_size, W/patch_size)\n",
        "        # After projection: torch.Size([64, 192, 8, 8])\n",
        "\n",
        "        x = x.flatten(2).transpose(1, 2) # (B, num_patches, embed_dim)\n",
        "        # After flatten/transpose: torch.Size([64, 64, 192])\n",
        "\n",
        "        cls_token = self.cls_token.expand(B, -1, -1)\n",
        "        # Class token expanded: torch.Size([64, 1, 192])\n",
        "\n",
        "        x = torch.cat((cls_token, x), dim=1) # (B, 1 + num_patches, embed_dim)\n",
        "        # After adding class token: torch.Size([64, 65, 192])\n",
        "\n",
        "        x = x + self.pos_embed\n",
        "        # After adding positional embeddings: torch.Size([64, 65, 192])\n",
        "\n",
        "        return x"
      ],
      "metadata": {
        "id": "kzfdfNN7ymCD"
      },
      "execution_count": 2,
      "outputs": []
    },
    {
      "cell_type": "code",
      "source": [
        "class MLP(nn.Module):\n",
        "    def __init__(self, in_features, hidden_features, drop_rate):\n",
        "        super().__init__()\n",
        "        self.fc1 = nn.Linear(in_features, hidden_features)\n",
        "        self.fc2 = nn.Linear(hidden_features, in_features)\n",
        "        self.dropout = nn.Dropout(drop_rate)\n",
        "\n",
        "    def forward(self, x):\n",
        "        # MLP input: torch.Size([64, 65, 192])\n",
        "        x = self.dropout(F.gelu(self.fc1(x)))\n",
        "        x = self.dropout(self.fc2(x))\n",
        "        # MLP output: torch.Size([64, 65, 192])\n",
        "        return x"
      ],
      "metadata": {
        "id": "T6iKj6pg0HU_"
      },
      "execution_count": 3,
      "outputs": []
    },
    {
      "cell_type": "code",
      "source": [
        "class EncoderLayer(nn.Module):\n",
        "    def __init__(self, embed_dim, num_heads, mlp_dim, drop_rate):\n",
        "        super().__init__()\n",
        "        self.norm1 = nn.LayerNorm(embed_dim)\n",
        "        self.attn = nn.MultiheadAttention(embed_dim, num_heads, dropout=drop_rate, batch_first=True)\n",
        "        self.norm2 = nn.LayerNorm(embed_dim)\n",
        "        self.mlp = MLP(embed_dim, mlp_dim, drop_rate)\n",
        "\n",
        "    def forward(self, x):\n",
        "        # Encoder Layer input: torch.Size([64, 65, 192])\n",
        "\n",
        "        # Attention with residual connection\n",
        "        x_norm = self.norm1(x)\n",
        "        attn_out, _ = self.attn(x_norm, x_norm, x_norm)\n",
        "        x = x + attn_out\n",
        "        # After attention: torch.Size([64, 65, 192])\n",
        "\n",
        "        # MLP with residual connection\n",
        "        x = x + self.mlp(self.norm2(x))\n",
        "        # After MLP: torch.Size([64, 65, 192])\n",
        "\n",
        "        return x"
      ],
      "metadata": {
        "id": "4rhvwODm0Tzt"
      },
      "execution_count": 4,
      "outputs": []
    },
    {
      "cell_type": "code",
      "source": [
        "class VisionTransformer(nn.Module):\n",
        "    def __init__(self, image_size, patch_size, in_channels, num_classes, embed_dim, depth, num_heads, mlp_dim, drop_rate):\n",
        "        super().__init__()\n",
        "        self.patch_embed = PatchEmbedding(image_size, patch_size, in_channels, embed_dim)\n",
        "        self.dropout = nn.Dropout(drop_rate)\n",
        "\n",
        "        self.encoder = nn.Sequential(*[\n",
        "            EncoderLayer(embed_dim, num_heads, mlp_dim, drop_rate)\n",
        "            for _ in range(depth)\n",
        "        ])\n",
        "\n",
        "        self.norm = nn.LayerNorm(embed_dim)\n",
        "        self.head = nn.Linear(embed_dim, num_classes)\n",
        "\n",
        "        print(f\"VisionTransformer: {depth} encoder layers, {embed_dim}->{num_classes} classifier\")\n",
        "\n",
        "    def forward(self, x):\n",
        "        # ViT input: torch.Size([64, 3, 32, 32])\n",
        "\n",
        "        x = self.patch_embed(x)\n",
        "        # After patch embedding: torch.Size([64, 65, 192])\n",
        "\n",
        "        x = self.dropout(x)\n",
        "        # After embedding dropout: torch.Size([64, 65, 192])\n",
        "\n",
        "        x = self.encoder(x)\n",
        "\n",
        "        x = self.norm(x) # Apply LayerNorm before extracting class token\n",
        "\n",
        "        cls_token = x[:, 0]  # Extract class token\n",
        "        # Class token: torch.Size([64, 192])\n",
        "\n",
        "        output = self.head(cls_token)\n",
        "        # Final output: torch.Size([64, 10])\n",
        "        return output"
      ],
      "metadata": {
        "id": "jTbHAtyy0X9_"
      },
      "execution_count": 5,
      "outputs": []
    },
    {
      "cell_type": "code",
      "source": [
        "model = VisionTransformer(IMAGE_SIZE, PATCH_SIZE, CHANNELS, NUM_CLASSES, EMBED_DIM, DEPTH, NUM_HEADS, MLP_DIM, DROP_RATE).to(device)"
      ],
      "metadata": {
        "id": "ObFusGCN6JL9",
        "colab": {
          "base_uri": "https://localhost:8080/"
        },
        "outputId": "0da9576d-706f-4b0d-bc22-39fd89a9978c"
      },
      "execution_count": 6,
      "outputs": [
        {
          "output_type": "stream",
          "name": "stdout",
          "text": [
            "PatchEmbedding: 64\n",
            "VisionTransformer: 4 encoder layers, 192->10 classifier\n"
          ]
        }
      ]
    },
    {
      "cell_type": "markdown",
      "source": [
        "# **Traning**"
      ],
      "metadata": {
        "id": "J5gu9HmpBWNw"
      }
    },
    {
      "cell_type": "code",
      "source": [
        "loss_fn = nn.CrossEntropyLoss()\n",
        "optimizer = torch.optim.Adam(params=model.parameters(), lr=LEARNING_RATE)"
      ],
      "metadata": {
        "id": "zz0K6g0o6TBW"
      },
      "execution_count": 7,
      "outputs": []
    },
    {
      "cell_type": "code",
      "source": [
        "def train(model, loader, optimizer, loss_fn):\n",
        "    model.train()\n",
        "    total_loss, correct = 0, 0\n",
        "\n",
        "    for batch_idx, (x, y) in enumerate(loader):\n",
        "        x, y = x.to(device), y.to(device)\n",
        "\n",
        "        optimizer.zero_grad()\n",
        "        logits = model(x)\n",
        "        loss = loss_fn(logits, y)\n",
        "        loss.backward()\n",
        "        optimizer.step()\n",
        "\n",
        "        total_loss += loss.item() * x.size(0)\n",
        "        correct += (logits.argmax(1) == y).sum().item()\n",
        "\n",
        "    return total_loss / len(loader.dataset), correct / len(loader.dataset)\n",
        "\n",
        "def evaluate(model, loader, loss_fn):\n",
        "    model.eval()\n",
        "    correct = 0\n",
        "    total_loss = 0\n",
        "    with torch.no_grad():\n",
        "        for x, y in loader:\n",
        "            x, y = x.to(device), y.to(device)\n",
        "            logits = model(x)\n",
        "            loss = loss_fn(logits, y)\n",
        "            total_loss += loss.item() * x.size(0)\n",
        "            correct += (logits.argmax(dim=1) == y).sum().item()\n",
        "\n",
        "    return total_loss / len(loader.dataset), correct / len(loader.dataset)"
      ],
      "metadata": {
        "id": "-hlbOeOsAgb5"
      },
      "execution_count": 8,
      "outputs": []
    },
    {
      "cell_type": "code",
      "source": [
        "train_accuracies, test_accuracies = [], []\n",
        "train_losses, test_losses = [], []\n",
        "\n",
        "for epoch in tqdm(range(EPOCHS)):\n",
        "    train_loss, train_acc = train(model, train_loader, optimizer, loss_fn)\n",
        "    test_loss, test_acc = evaluate(model, test_loader, loss_fn)\n",
        "\n",
        "    train_accuracies.append(train_acc)\n",
        "    test_accuracies.append(test_acc)\n",
        "    train_losses.append(train_loss)\n",
        "    test_losses.append(test_loss)\n",
        "\n",
        "    print(f\"Epoch: {epoch+1}/{EPOCHS}, Train loss: {train_loss:.4f}, Train acc: {train_acc:.4f}, Test loss: {test_loss:.4f}, Test acc: {test_acc:.4f}\")\n",
        "\n",
        "print(f\"\\nFinal Results:\")\n",
        "print(f\"Train Accuracy: {train_accuracies[-1]:.4f}\")\n",
        "print(f\"Test Accuracy: {test_accuracies[-1]:.4f}\")"
      ],
      "metadata": {
        "id": "_Ot0yOVk8jUH",
        "colab": {
          "base_uri": "https://localhost:8080/"
        },
        "outputId": "bec105ce-7c5e-4955-d5c4-8d05a412a192"
      },
      "execution_count": 9,
      "outputs": [
        {
          "output_type": "stream",
          "name": "stderr",
          "text": [
            "  3%|▎         | 1/30 [01:41<48:58, 101.32s/it]"
          ]
        },
        {
          "output_type": "stream",
          "name": "stdout",
          "text": [
            "Epoch: 1/30, Train loss: 2.1414, Train acc: 0.1997, Test loss: 1.8802, Test acc: 0.3055\n"
          ]
        },
        {
          "output_type": "stream",
          "name": "stderr",
          "text": [
            "\r  7%|▋         | 2/30 [03:19<46:17, 99.18s/it] "
          ]
        },
        {
          "output_type": "stream",
          "name": "stdout",
          "text": [
            "Epoch: 2/30, Train loss: 2.0199, Train acc: 0.2585, Test loss: 1.7905, Test acc: 0.3348\n"
          ]
        },
        {
          "output_type": "stream",
          "name": "stderr",
          "text": [
            "\r 10%|█         | 3/30 [04:56<44:11, 98.21s/it]"
          ]
        },
        {
          "output_type": "stream",
          "name": "stdout",
          "text": [
            "Epoch: 3/30, Train loss: 1.9311, Train acc: 0.2948, Test loss: 1.6438, Test acc: 0.4067\n"
          ]
        },
        {
          "output_type": "stream",
          "name": "stderr",
          "text": [
            "\r 13%|█▎        | 4/30 [06:32<42:15, 97.53s/it]"
          ]
        },
        {
          "output_type": "stream",
          "name": "stdout",
          "text": [
            "Epoch: 4/30, Train loss: 1.8566, Train acc: 0.3242, Test loss: 1.5714, Test acc: 0.4400\n"
          ]
        },
        {
          "output_type": "stream",
          "name": "stderr",
          "text": [
            "\r 17%|█▋        | 5/30 [08:08<40:24, 96.98s/it]"
          ]
        },
        {
          "output_type": "stream",
          "name": "stdout",
          "text": [
            "Epoch: 5/30, Train loss: 1.8048, Train acc: 0.3428, Test loss: 1.5700, Test acc: 0.4490\n"
          ]
        },
        {
          "output_type": "stream",
          "name": "stderr",
          "text": [
            "\r 20%|██        | 6/30 [09:44<38:41, 96.75s/it]"
          ]
        },
        {
          "output_type": "stream",
          "name": "stdout",
          "text": [
            "Epoch: 6/30, Train loss: 1.7646, Train acc: 0.3611, Test loss: 1.4986, Test acc: 0.4630\n"
          ]
        },
        {
          "output_type": "stream",
          "name": "stderr",
          "text": [
            "\r 23%|██▎       | 7/30 [11:21<37:05, 96.77s/it]"
          ]
        },
        {
          "output_type": "stream",
          "name": "stdout",
          "text": [
            "Epoch: 7/30, Train loss: 1.7280, Train acc: 0.3699, Test loss: 1.4632, Test acc: 0.4726\n"
          ]
        },
        {
          "output_type": "stream",
          "name": "stderr",
          "text": [
            "\r 27%|██▋       | 8/30 [12:59<35:39, 97.26s/it]"
          ]
        },
        {
          "output_type": "stream",
          "name": "stdout",
          "text": [
            "Epoch: 8/30, Train loss: 1.7076, Train acc: 0.3803, Test loss: 1.4493, Test acc: 0.4806\n"
          ]
        },
        {
          "output_type": "stream",
          "name": "stderr",
          "text": [
            "\r 30%|███       | 9/30 [14:36<33:58, 97.09s/it]"
          ]
        },
        {
          "output_type": "stream",
          "name": "stdout",
          "text": [
            "Epoch: 9/30, Train loss: 1.6822, Train acc: 0.3885, Test loss: 1.4254, Test acc: 0.4870\n"
          ]
        },
        {
          "output_type": "stream",
          "name": "stderr",
          "text": [
            "\r 33%|███▎      | 10/30 [16:12<32:12, 96.64s/it]"
          ]
        },
        {
          "output_type": "stream",
          "name": "stdout",
          "text": [
            "Epoch: 10/30, Train loss: 1.6495, Train acc: 0.4007, Test loss: 1.3659, Test acc: 0.5082\n"
          ]
        },
        {
          "output_type": "stream",
          "name": "stderr",
          "text": [
            "\r 37%|███▋      | 11/30 [17:48<30:34, 96.54s/it]"
          ]
        },
        {
          "output_type": "stream",
          "name": "stdout",
          "text": [
            "Epoch: 11/30, Train loss: 1.6383, Train acc: 0.4077, Test loss: 1.3541, Test acc: 0.5155\n"
          ]
        },
        {
          "output_type": "stream",
          "name": "stderr",
          "text": [
            "\r 40%|████      | 12/30 [19:24<28:52, 96.26s/it]"
          ]
        },
        {
          "output_type": "stream",
          "name": "stdout",
          "text": [
            "Epoch: 12/30, Train loss: 1.6152, Train acc: 0.4124, Test loss: 1.3832, Test acc: 0.5007\n"
          ]
        },
        {
          "output_type": "stream",
          "name": "stderr",
          "text": [
            "\r 43%|████▎     | 13/30 [21:00<27:14, 96.13s/it]"
          ]
        },
        {
          "output_type": "stream",
          "name": "stdout",
          "text": [
            "Epoch: 13/30, Train loss: 1.6051, Train acc: 0.4191, Test loss: 1.3134, Test acc: 0.5311\n"
          ]
        },
        {
          "output_type": "stream",
          "name": "stderr",
          "text": [
            "\r 47%|████▋     | 14/30 [22:36<25:40, 96.26s/it]"
          ]
        },
        {
          "output_type": "stream",
          "name": "stdout",
          "text": [
            "Epoch: 14/30, Train loss: 1.5842, Train acc: 0.4281, Test loss: 1.3040, Test acc: 0.5300\n"
          ]
        },
        {
          "output_type": "stream",
          "name": "stderr",
          "text": [
            "\r 50%|█████     | 15/30 [24:13<24:06, 96.44s/it]"
          ]
        },
        {
          "output_type": "stream",
          "name": "stdout",
          "text": [
            "Epoch: 15/30, Train loss: 1.5655, Train acc: 0.4339, Test loss: 1.2906, Test acc: 0.5414\n"
          ]
        },
        {
          "output_type": "stream",
          "name": "stderr",
          "text": [
            "\r 53%|█████▎    | 16/30 [25:50<22:33, 96.69s/it]"
          ]
        },
        {
          "output_type": "stream",
          "name": "stdout",
          "text": [
            "Epoch: 16/30, Train loss: 1.5494, Train acc: 0.4386, Test loss: 1.3203, Test acc: 0.5289\n"
          ]
        },
        {
          "output_type": "stream",
          "name": "stderr",
          "text": [
            "\r 57%|█████▋    | 17/30 [27:31<21:10, 97.77s/it]"
          ]
        },
        {
          "output_type": "stream",
          "name": "stdout",
          "text": [
            "Epoch: 17/30, Train loss: 1.5367, Train acc: 0.4424, Test loss: 1.2937, Test acc: 0.5422\n"
          ]
        },
        {
          "output_type": "stream",
          "name": "stderr",
          "text": [
            "\r 60%|██████    | 18/30 [29:08<19:33, 97.79s/it]"
          ]
        },
        {
          "output_type": "stream",
          "name": "stdout",
          "text": [
            "Epoch: 18/30, Train loss: 1.5179, Train acc: 0.4526, Test loss: 1.2771, Test acc: 0.5472\n"
          ]
        },
        {
          "output_type": "stream",
          "name": "stderr",
          "text": [
            "\r 63%|██████▎   | 19/30 [30:45<17:52, 97.49s/it]"
          ]
        },
        {
          "output_type": "stream",
          "name": "stdout",
          "text": [
            "Epoch: 19/30, Train loss: 1.5080, Train acc: 0.4565, Test loss: 1.2515, Test acc: 0.5550\n"
          ]
        },
        {
          "output_type": "stream",
          "name": "stderr",
          "text": [
            "\r 67%|██████▋   | 20/30 [32:21<16:11, 97.12s/it]"
          ]
        },
        {
          "output_type": "stream",
          "name": "stdout",
          "text": [
            "Epoch: 20/30, Train loss: 1.4955, Train acc: 0.4594, Test loss: 1.2374, Test acc: 0.5586\n"
          ]
        },
        {
          "output_type": "stream",
          "name": "stderr",
          "text": [
            "\r 70%|███████   | 21/30 [33:58<14:31, 96.86s/it]"
          ]
        },
        {
          "output_type": "stream",
          "name": "stdout",
          "text": [
            "Epoch: 21/30, Train loss: 1.4832, Train acc: 0.4656, Test loss: 1.2230, Test acc: 0.5697\n"
          ]
        },
        {
          "output_type": "stream",
          "name": "stderr",
          "text": [
            "\r 73%|███████▎  | 22/30 [35:34<12:53, 96.75s/it]"
          ]
        },
        {
          "output_type": "stream",
          "name": "stdout",
          "text": [
            "Epoch: 22/30, Train loss: 1.4748, Train acc: 0.4690, Test loss: 1.2248, Test acc: 0.5635\n"
          ]
        },
        {
          "output_type": "stream",
          "name": "stderr",
          "text": [
            "\r 77%|███████▋  | 23/30 [37:11<11:16, 96.66s/it]"
          ]
        },
        {
          "output_type": "stream",
          "name": "stdout",
          "text": [
            "Epoch: 23/30, Train loss: 1.4662, Train acc: 0.4710, Test loss: 1.2288, Test acc: 0.5601\n"
          ]
        },
        {
          "output_type": "stream",
          "name": "stderr",
          "text": [
            "\r 80%|████████  | 24/30 [38:51<09:45, 97.65s/it]"
          ]
        },
        {
          "output_type": "stream",
          "name": "stdout",
          "text": [
            "Epoch: 24/30, Train loss: 1.4469, Train acc: 0.4803, Test loss: 1.1955, Test acc: 0.5727\n"
          ]
        },
        {
          "output_type": "stream",
          "name": "stderr",
          "text": [
            "\r 83%|████████▎ | 25/30 [40:28<08:08, 97.60s/it]"
          ]
        },
        {
          "output_type": "stream",
          "name": "stdout",
          "text": [
            "Epoch: 25/30, Train loss: 1.4376, Train acc: 0.4816, Test loss: 1.1652, Test acc: 0.5848\n"
          ]
        },
        {
          "output_type": "stream",
          "name": "stderr",
          "text": [
            "\r 87%|████████▋ | 26/30 [42:05<06:30, 97.53s/it]"
          ]
        },
        {
          "output_type": "stream",
          "name": "stdout",
          "text": [
            "Epoch: 26/30, Train loss: 1.4297, Train acc: 0.4860, Test loss: 1.1670, Test acc: 0.5800\n"
          ]
        },
        {
          "output_type": "stream",
          "name": "stderr",
          "text": [
            "\r 90%|█████████ | 27/30 [43:43<04:52, 97.52s/it]"
          ]
        },
        {
          "output_type": "stream",
          "name": "stdout",
          "text": [
            "Epoch: 27/30, Train loss: 1.4164, Train acc: 0.4905, Test loss: 1.1817, Test acc: 0.5831\n"
          ]
        },
        {
          "output_type": "stream",
          "name": "stderr",
          "text": [
            "\r 93%|█████████▎| 28/30 [45:23<03:16, 98.43s/it]"
          ]
        },
        {
          "output_type": "stream",
          "name": "stdout",
          "text": [
            "Epoch: 28/30, Train loss: 1.4031, Train acc: 0.4944, Test loss: 1.1864, Test acc: 0.5783\n"
          ]
        },
        {
          "output_type": "stream",
          "name": "stderr",
          "text": [
            "\r 97%|█████████▋| 29/30 [47:01<01:38, 98.16s/it]"
          ]
        },
        {
          "output_type": "stream",
          "name": "stdout",
          "text": [
            "Epoch: 29/30, Train loss: 1.4005, Train acc: 0.4979, Test loss: 1.1444, Test acc: 0.5953\n"
          ]
        },
        {
          "output_type": "stream",
          "name": "stderr",
          "text": [
            "100%|██████████| 30/30 [48:37<00:00, 97.25s/it]"
          ]
        },
        {
          "output_type": "stream",
          "name": "stdout",
          "text": [
            "Epoch: 30/30, Train loss: 1.3911, Train acc: 0.5001, Test loss: 1.1311, Test acc: 0.5951\n",
            "\n",
            "Final Results:\n",
            "Train Accuracy: 0.5001\n",
            "Test Accuracy: 0.5951\n"
          ]
        },
        {
          "output_type": "stream",
          "name": "stderr",
          "text": [
            "\n"
          ]
        }
      ]
    },
    {
      "cell_type": "markdown",
      "source": [
        "# **Plot Results**"
      ],
      "metadata": {
        "id": "XyViYqZ2-eXK"
      }
    },
    {
      "cell_type": "code",
      "source": [
        "epochs = range(1, EPOCHS + 1)\n",
        "\n",
        "fig, (ax1, ax2) = plt.subplots(1, 2, figsize=(12, 5))\n",
        "\n",
        "# Plot Accuracy\n",
        "ax1.plot(epochs, train_accuracies, 'bo-', label='Train')\n",
        "ax1.plot(epochs, test_accuracies, 'ro-', label='Test')\n",
        "ax1.set_title('Accuracy Comparison')\n",
        "ax1.set_xlabel('Epoch')\n",
        "ax1.set_ylabel('Accuracy')\n",
        "ax1.legend()\n",
        "ax1.grid(True)\n",
        "\n",
        "# Plot Loss\n",
        "ax2.plot(epochs, train_losses, 'bo-', label='Train')\n",
        "ax2.plot(epochs, test_losses, 'ro-', label='Test')\n",
        "ax2.set_title('Loss Comparison')\n",
        "ax2.set_xlabel('Epoch')\n",
        "ax2.set_ylabel('Loss')\n",
        "ax2.legend()\n",
        "ax2.grid(True)\n",
        "\n",
        "plt.tight_layout()\n",
        "plt.show()"
      ],
      "metadata": {
        "id": "-ZRTje6t-hKd",
        "colab": {
          "base_uri": "https://localhost:8080/",
          "height": 507
        },
        "outputId": "1bd0b338-d48b-466a-c54f-7dba96e72205"
      },
      "execution_count": 10,
      "outputs": [
        {
          "output_type": "display_data",
          "data": {
            "text/plain": [
              "<Figure size 1200x500 with 2 Axes>"
            ],
            "image/png": "[encoded data removed]"
          },
          "metadata": {}
        }
      ]
    },
    {
      "cell_type": "markdown",
      "source": [
        "# **Continue Training**"
      ],
      "metadata": {
        "id": "bokCdDu8gYSg"
      }
    },
    {
      "cell_type": "code",
      "source": [
        "ADDITIONAL_EPOCHS = 20\n",
        "\n",
        "print(f\"Continuing training for {ADDITIONAL_EPOCHS} more epochs...\")\n",
        "print(f\"Starting from epoch {len(train_accuracies) + 1}\")\n",
        "\n",
        "for epoch in tqdm(range(ADDITIONAL_EPOCHS)):\n",
        "    train_loss, train_acc = train(model, train_loader, optimizer, loss_fn)\n",
        "    test_loss, test_acc = evaluate(model, test_loader, loss_fn)\n",
        "\n",
        "    train_accuracies.append(train_acc)\n",
        "    test_accuracies.append(test_acc)\n",
        "    train_losses.append(train_loss)\n",
        "    test_losses.append(test_loss)\n",
        "\n",
        "    current_epoch = len(train_accuracies)\n",
        "    print(f\"Epoch: {current_epoch}/{len(train_accuracies) + ADDITIONAL_EPOCHS - len(train_accuracies) + current_epoch}, Train loss: {train_loss:.4f}, Train acc: {train_acc:.4f}, Test loss: {test_loss:.4f}, Test acc: {test_acc:.4f}\")\n",
        "\n",
        "print(f\"\\nFinal Results after {len(train_accuracies)} total epochs:\")\n",
        "print(f\"Train Accuracy: {train_accuracies[-1]:.4f}\")\n",
        "print(f\"Test Accuracy: {test_accuracies[-1]:.4f}\")"
      ],
      "metadata": {
        "colab": {
          "base_uri": "https://localhost:8080/"
        },
        "id": "P0bqpqK09g8O",
        "outputId": "704c305d-4316-488a-add6-169de411769f"
      },
      "execution_count": 11,
      "outputs": [
        {
          "output_type": "stream",
          "name": "stdout",
          "text": [
            "Continuing training for 20 more epochs...\n",
            "Starting from epoch 31\n"
          ]
        },
        {
          "output_type": "stream",
          "name": "stderr",
          "text": [
            "  5%|▌         | 1/20 [01:38<31:14, 98.64s/it]"
          ]
        },
        {
          "output_type": "stream",
          "name": "stdout",
          "text": [
            "Epoch: 31/51, Train loss: 1.3801, Train acc: 0.5035, Test loss: 1.1147, Test acc: 0.6079\n"
          ]
        },
        {
          "output_type": "stream",
          "name": "stderr",
          "text": [
            "\r 10%|█         | 2/20 [03:15<29:15, 97.55s/it]"
          ]
        },
        {
          "output_type": "stream",
          "name": "stdout",
          "text": [
            "Epoch: 32/52, Train loss: 1.3703, Train acc: 0.5059, Test loss: 1.1357, Test acc: 0.5966\n"
          ]
        },
        {
          "output_type": "stream",
          "name": "stderr",
          "text": [
            "\r 15%|█▌        | 3/20 [04:52<27:32, 97.22s/it]"
          ]
        },
        {
          "output_type": "stream",
          "name": "stdout",
          "text": [
            "Epoch: 33/53, Train loss: 1.3581, Train acc: 0.5138, Test loss: 1.1115, Test acc: 0.6050\n"
          ]
        },
        {
          "output_type": "stream",
          "name": "stderr",
          "text": [
            "\r 20%|██        | 4/20 [06:33<26:23, 98.98s/it]"
          ]
        },
        {
          "output_type": "stream",
          "name": "stdout",
          "text": [
            "Epoch: 34/54, Train loss: 1.3505, Train acc: 0.5151, Test loss: 1.1376, Test acc: 0.5989\n"
          ]
        },
        {
          "output_type": "stream",
          "name": "stderr",
          "text": [
            "\r 25%|██▌       | 5/20 [08:10<24:31, 98.11s/it]"
          ]
        },
        {
          "output_type": "stream",
          "name": "stdout",
          "text": [
            "Epoch: 35/55, Train loss: 1.3414, Train acc: 0.5218, Test loss: 1.0906, Test acc: 0.6160\n"
          ]
        },
        {
          "output_type": "stream",
          "name": "stderr",
          "text": [
            "\r 30%|███       | 6/20 [09:47<22:48, 97.73s/it]"
          ]
        },
        {
          "output_type": "stream",
          "name": "stdout",
          "text": [
            "Epoch: 36/56, Train loss: 1.3262, Train acc: 0.5253, Test loss: 1.0839, Test acc: 0.6145\n"
          ]
        },
        {
          "output_type": "stream",
          "name": "stderr",
          "text": [
            "\r 35%|███▌      | 7/20 [11:24<21:08, 97.57s/it]"
          ]
        },
        {
          "output_type": "stream",
          "name": "stdout",
          "text": [
            "Epoch: 37/57, Train loss: 1.3206, Train acc: 0.5252, Test loss: 1.0851, Test acc: 0.6120\n"
          ]
        },
        {
          "output_type": "stream",
          "name": "stderr",
          "text": [
            "\r 40%|████      | 8/20 [13:01<19:29, 97.43s/it]"
          ]
        },
        {
          "output_type": "stream",
          "name": "stdout",
          "text": [
            "Epoch: 38/58, Train loss: 1.3062, Train acc: 0.5316, Test loss: 1.1044, Test acc: 0.6182\n"
          ]
        },
        {
          "output_type": "stream",
          "name": "stderr",
          "text": [
            "\r 45%|████▌     | 9/20 [14:39<17:50, 97.34s/it]"
          ]
        },
        {
          "output_type": "stream",
          "name": "stdout",
          "text": [
            "Epoch: 39/59, Train loss: 1.2997, Train acc: 0.5365, Test loss: 1.0498, Test acc: 0.6281\n"
          ]
        },
        {
          "output_type": "stream",
          "name": "stderr",
          "text": [
            "\r 50%|█████     | 10/20 [16:16<16:13, 97.31s/it]"
          ]
        },
        {
          "output_type": "stream",
          "name": "stdout",
          "text": [
            "Epoch: 40/60, Train loss: 1.2952, Train acc: 0.5373, Test loss: 1.0871, Test acc: 0.6171\n"
          ]
        },
        {
          "output_type": "stream",
          "name": "stderr",
          "text": [
            "\r 55%|█████▌    | 11/20 [17:53<14:36, 97.37s/it]"
          ]
        },
        {
          "output_type": "stream",
          "name": "stdout",
          "text": [
            "Epoch: 41/61, Train loss: 1.2840, Train acc: 0.5432, Test loss: 1.0435, Test acc: 0.6268\n"
          ]
        },
        {
          "output_type": "stream",
          "name": "stderr",
          "text": [
            "\r 60%|██████    | 12/20 [19:30<12:57, 97.13s/it]"
          ]
        },
        {
          "output_type": "stream",
          "name": "stdout",
          "text": [
            "Epoch: 42/62, Train loss: 1.2692, Train acc: 0.5468, Test loss: 1.0186, Test acc: 0.6385\n"
          ]
        },
        {
          "output_type": "stream",
          "name": "stderr",
          "text": [
            "\r 65%|██████▌   | 13/20 [21:06<11:18, 96.92s/it]"
          ]
        },
        {
          "output_type": "stream",
          "name": "stdout",
          "text": [
            "Epoch: 43/63, Train loss: 1.2672, Train acc: 0.5489, Test loss: 1.0253, Test acc: 0.6348\n"
          ]
        },
        {
          "output_type": "stream",
          "name": "stderr",
          "text": [
            "\r 70%|███████   | 14/20 [22:42<09:40, 96.69s/it]"
          ]
        },
        {
          "output_type": "stream",
          "name": "stdout",
          "text": [
            "Epoch: 44/64, Train loss: 1.2593, Train acc: 0.5493, Test loss: 1.0240, Test acc: 0.6348\n"
          ]
        },
        {
          "output_type": "stream",
          "name": "stderr",
          "text": [
            "\r 75%|███████▌  | 15/20 [24:19<08:03, 96.69s/it]"
          ]
        },
        {
          "output_type": "stream",
          "name": "stdout",
          "text": [
            "Epoch: 45/65, Train loss: 1.2485, Train acc: 0.5551, Test loss: 1.0163, Test acc: 0.6412\n"
          ]
        },
        {
          "output_type": "stream",
          "name": "stderr",
          "text": [
            "\r 80%|████████  | 16/20 [25:55<06:25, 96.48s/it]"
          ]
        },
        {
          "output_type": "stream",
          "name": "stdout",
          "text": [
            "Epoch: 46/66, Train loss: 1.2441, Train acc: 0.5539, Test loss: 1.0289, Test acc: 0.6376\n"
          ]
        },
        {
          "output_type": "stream",
          "name": "stderr",
          "text": [
            "\r 85%|████████▌ | 17/20 [27:31<04:49, 96.35s/it]"
          ]
        },
        {
          "output_type": "stream",
          "name": "stdout",
          "text": [
            "Epoch: 47/67, Train loss: 1.2437, Train acc: 0.5570, Test loss: 0.9895, Test acc: 0.6517\n"
          ]
        },
        {
          "output_type": "stream",
          "name": "stderr",
          "text": [
            "\r 90%|█████████ | 18/20 [29:07<03:12, 96.21s/it]"
          ]
        },
        {
          "output_type": "stream",
          "name": "stdout",
          "text": [
            "Epoch: 48/68, Train loss: 1.2294, Train acc: 0.5628, Test loss: 1.0015, Test acc: 0.6493\n"
          ]
        },
        {
          "output_type": "stream",
          "name": "stderr",
          "text": [
            "\r 95%|█████████▌| 19/20 [30:43<01:36, 96.11s/it]"
          ]
        },
        {
          "output_type": "stream",
          "name": "stdout",
          "text": [
            "Epoch: 49/69, Train loss: 1.2230, Train acc: 0.5636, Test loss: 0.9882, Test acc: 0.6497\n"
          ]
        },
        {
          "output_type": "stream",
          "name": "stderr",
          "text": [
            "100%|██████████| 20/20 [32:19<00:00, 96.96s/it]"
          ]
        },
        {
          "output_type": "stream",
          "name": "stdout",
          "text": [
            "Epoch: 50/70, Train loss: 1.2099, Train acc: 0.5687, Test loss: 0.9861, Test acc: 0.6501\n",
            "\n",
            "Final Results after 50 total epochs:\n",
            "Train Accuracy: 0.5687\n",
            "Test Accuracy: 0.6501\n"
          ]
        },
        {
          "output_type": "stream",
          "name": "stderr",
          "text": [
            "\n"
          ]
        }
      ]
    },
    {
      "cell_type": "code",
      "source": [
        "total_epochs = range(1, len(train_accuracies) + 1)\n",
        "fig, (ax1, ax2) = plt.subplots(1, 2, figsize=(12, 5))\n",
        "\n",
        "# Plot Accuracy\n",
        "ax1.plot(total_epochs, train_accuracies, 'bo-', label='Train', markersize=3)\n",
        "ax1.plot(total_epochs, test_accuracies, 'ro-', label='Test', markersize=3)\n",
        "ax1.axvline(x=30, color='gray', linestyle='--', alpha=0.7, label='Training resumed')\n",
        "ax1.set_title('Accuracy Comparison (50 Total Epochs)')\n",
        "ax1.set_xlabel('Epoch')\n",
        "ax1.set_ylabel('Accuracy')\n",
        "ax1.legend()\n",
        "ax1.grid(True)\n",
        "\n",
        "# Plot Loss\n",
        "ax2.plot(total_epochs, train_losses, 'bo-', label='Train', markersize=3)\n",
        "ax2.plot(total_epochs, test_losses, 'ro-', label='Test', markersize=3)\n",
        "ax2.axvline(x=30, color='gray', linestyle='--', alpha=0.7, label='Training resumed')\n",
        "ax2.set_title('Loss Comparison (50 Total Epochs)')\n",
        "ax2.set_xlabel('Epoch')\n",
        "ax2.set_ylabel('Loss')\n",
        "ax2.legend()\n",
        "ax2.grid(True)\n",
        "\n",
        "plt.tight_layout()\n",
        "plt.show()"
      ],
      "metadata": {
        "colab": {
          "base_uri": "https://localhost:8080/",
          "height": 507
        },
        "id": "QqiZ95RLXyBc",
        "outputId": "85b0a8e9-1e87-41ca-89d1-765e1feebe71"
      },
      "execution_count": 12,
      "outputs": [
        {
          "output_type": "display_data",
          "data": {
            "text/plain": [
              "<Figure size 1200x500 with 2 Axes>"
            ],
            "image/png": "[encoded data removed]"
          },
          "metadata": {}
        }
      ]
    },
    {
      "cell_type": "code",
      "source": [],
      "metadata": {
        "id": "yLnqC2ThfTeG"
      },
      "execution_count": null,
      "outputs": []
    }
  ]
}